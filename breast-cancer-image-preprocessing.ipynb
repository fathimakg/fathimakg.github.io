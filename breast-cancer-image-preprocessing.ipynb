{
 "cells": [
  {
   "cell_type": "code",
   "execution_count": 2,
   "metadata": {},
   "outputs": [
    {
     "name": "stdout",
     "output_type": "stream",
     "text": [
      "Collecting kaggle\n",
      "  Downloading https://files.pythonhosted.org/packages/62/ab/bb20f9b9e24f9a6250f95a432f8d9a7d745f8d24039d7a5a6eaadb7783ba/kaggle-1.5.6.tar.gz (58kB)\n",
      "Requirement already satisfied: urllib3<1.25,>=1.21.1 in /home/ec2-user/anaconda3/envs/mxnet_p36/lib/python3.6/site-packages (from kaggle) (1.23)\n",
      "Requirement already satisfied: six>=1.10 in /home/ec2-user/anaconda3/envs/mxnet_p36/lib/python3.6/site-packages (from kaggle) (1.11.0)\n",
      "Requirement already satisfied: certifi in /home/ec2-user/anaconda3/envs/mxnet_p36/lib/python3.6/site-packages (from kaggle) (2019.6.16)\n",
      "Requirement already satisfied: python-dateutil in /home/ec2-user/anaconda3/envs/mxnet_p36/lib/python3.6/site-packages (from kaggle) (2.7.3)\n",
      "Requirement already satisfied: requests in /home/ec2-user/anaconda3/envs/mxnet_p36/lib/python3.6/site-packages (from kaggle) (2.20.0)\n",
      "Collecting tqdm (from kaggle)\n",
      "  Downloading https://files.pythonhosted.org/packages/05/f2/764a5d530cf143ded9bc95216edb6e258c6554511e78de7c250557e8f3ed/tqdm-4.37.0-py2.py3-none-any.whl (53kB)\n",
      "Collecting python-slugify (from kaggle)\n",
      "  Downloading https://files.pythonhosted.org/packages/92/5f/7b84a0bba8a0fdd50c046f8b57dcf179dc16237ad33446079b7c484de04c/python-slugify-4.0.0.tar.gz\n",
      "Requirement already satisfied: idna<2.8,>=2.5 in /home/ec2-user/anaconda3/envs/mxnet_p36/lib/python3.6/site-packages (from requests->kaggle) (2.6)\n",
      "Requirement already satisfied: chardet<3.1.0,>=3.0.2 in /home/ec2-user/anaconda3/envs/mxnet_p36/lib/python3.6/site-packages (from requests->kaggle) (3.0.4)\n",
      "Collecting text-unidecode>=1.3 (from python-slugify->kaggle)\n",
      "  Downloading https://files.pythonhosted.org/packages/a6/a5/c0b6468d3824fe3fde30dbb5e1f687b291608f9473681bbf7dabbf5a87d7/text_unidecode-1.3-py2.py3-none-any.whl (78kB)\n",
      "Building wheels for collected packages: kaggle, python-slugify\n",
      "  Running setup.py bdist_wheel for kaggle: started\n",
      "  Running setup.py bdist_wheel for kaggle: finished with status 'done'\n",
      "  Stored in directory: /home/ec2-user/.cache/pip/wheels/57/4e/e8/bb28d035162fb8f17f8ca5d42c3230e284c6aa565b42b72674\n",
      "  Running setup.py bdist_wheel for python-slugify: started\n",
      "  Running setup.py bdist_wheel for python-slugify: finished with status 'done'\n",
      "  Stored in directory: /home/ec2-user/.cache/pip/wheels/11/94/81/312969455540cb0e6a773e5d68a73c14128bfdfd4a7969bb4f\n",
      "Successfully built kaggle python-slugify\n",
      "Installing collected packages: tqdm, text-unidecode, python-slugify, kaggle\n",
      "Successfully installed kaggle-1.5.6 python-slugify-4.0.0 text-unidecode-1.3 tqdm-4.37.0\n"
     ]
    },
    {
     "name": "stderr",
     "output_type": "stream",
     "text": [
      "You are using pip version 10.0.1, however version 19.3.1 is available.\n",
      "You should consider upgrading via the 'pip install --upgrade pip' command.\n"
     ]
    }
   ],
   "source": [
    "%%bash\n",
    "pip install kaggle"
   ]
  },
  {
   "cell_type": "code",
   "execution_count": 4,
   "metadata": {},
   "outputs": [],
   "source": [
    "\n",
    "%%bash\n",
    "mkdir /home/ec2-user/.kaggle\n",
    "mv /home/ec2-user/SageMaker/kaggle.json /home/ec2-user/.kaggle\n",
    "chmod 600 /home/ec2-user/.kaggle/kaggle.json\n"
   ]
  },
  {
   "cell_type": "code",
   "execution_count": 5,
   "metadata": {},
   "outputs": [
    {
     "name": "stdout",
     "output_type": "stream",
     "text": [
      "total 12\n",
      "drwxrwxr-x  2 ec2-user ec2-user 4096 Nov  8 19:33 .\n",
      "drwx------ 22 ec2-user ec2-user 4096 Nov  8 19:33 ..\n",
      "-rw-------  1 ec2-user ec2-user   65 Nov  8 19:32 kaggle.json\n"
     ]
    }
   ],
   "source": [
    "%%bash\n",
    "ls -al /home/ec2-user/.kaggle/"
   ]
  },
  {
   "cell_type": "markdown",
   "metadata": {},
   "source": [
    "Using Kaggle API to download the dataset"
   ]
  },
  {
   "cell_type": "code",
   "execution_count": 7,
   "metadata": {},
   "outputs": [
    {
     "name": "stdout",
     "output_type": "stream",
     "text": [
      "Downloading breast-histopathology-images.zip to /home/ec2-user/SageMaker\n",
      "\n"
     ]
    },
    {
     "name": "stderr",
     "output_type": "stream",
     "text": [
      "100%|██████████| 3.10G/3.10G [01:40<00:00, 33.2MB/s]\n"
     ]
    }
   ],
   "source": [
    "\n",
    "%%bash\n",
    "kaggle datasets download --unzip paultimothymooney/breast-histopathology-images\n"
   ]
  },
  {
   "cell_type": "markdown",
   "metadata": {},
   "source": [
    "Removing the directory after unzipping the files"
   ]
  },
  {
   "cell_type": "code",
   "execution_count": 8,
   "metadata": {},
   "outputs": [],
   "source": [
    "%%bash\n",
    "rm -rf IDC_regular_ps50_idx5"
   ]
  },
  {
   "cell_type": "markdown",
   "metadata": {},
   "source": [
    "Creating two folders, 0 for no cancer detected images, and 1 for cancer detected images"
   ]
  },
  {
   "cell_type": "code",
   "execution_count": 9,
   "metadata": {},
   "outputs": [],
   "source": [
    "%%bash\n",
    "mkdir images/0\n",
    "mkdir images/1"
   ]
  },
  {
   "cell_type": "code",
   "execution_count": 10,
   "metadata": {},
   "outputs": [],
   "source": [
    "import os\n"
   ]
  },
  {
   "cell_type": "markdown",
   "metadata": {},
   "source": [
    "Moving all the class0 images to 0 directory and class1 images to 1 directory"
   ]
  },
  {
   "cell_type": "code",
   "execution_count": 11,
   "metadata": {},
   "outputs": [],
   "source": [
    "for path, subdirs, files in os.walk('images'):\n",
    "    for name in files:\n",
    "        filename = os.path.join(path,name)\n",
    "        if name.endswith('class0.png'):\n",
    "            destination_class = '0'\n",
    "        else:\n",
    "            destination_class = '1'\n",
    "        os.rename(filename,os.path.join('images',destination_class,name))"
   ]
  },
  {
   "cell_type": "code",
   "execution_count": null,
   "metadata": {},
   "outputs": [],
   "source": [
    "df = pd.df()"
   ]
  },
  {
   "cell_type": "code",
   "execution_count": 3,
   "metadata": {},
   "outputs": [
    {
     "name": "stdout",
     "output_type": "stream",
     "text": [
      "198739\n"
     ]
    }
   ],
   "source": [
    "%%bash\n",
    "cd images/0\n",
    "ls -l|wc -l"
   ]
  },
  {
   "cell_type": "code",
   "execution_count": 4,
   "metadata": {},
   "outputs": [
    {
     "name": "stdout",
     "output_type": "stream",
     "text": [
      "78787\n"
     ]
    }
   ],
   "source": [
    "%%bash\n",
    "cd images/1\n",
    "ls -l|wc -l"
   ]
  },
  {
   "cell_type": "code",
   "execution_count": 14,
   "metadata": {},
   "outputs": [],
   "source": [
    "%%bash\n",
    "shopt -s extglob\n",
    "cd images\n",
    "rm -rf !(\"0\"|\"1\")"
   ]
  },
  {
   "cell_type": "markdown",
   "metadata": {},
   "source": [
    "#Display an image with no cancer class - class0 "
   ]
  },
  {
   "cell_type": "code",
   "execution_count": 15,
   "metadata": {},
   "outputs": [],
   "source": [
    "%matplotlib inline\n",
    "import matplotlib.pyplot as plt\n",
    "import matplotlib.image as mpimg"
   ]
  },
  {
   "cell_type": "code",
   "execution_count": 16,
   "metadata": {},
   "outputs": [
    {
     "data": {
      "image/png": "[encoded data removed]",
      "text/plain": [
       "<Figure size 432x288 with 1 Axes>"
      ]
     },
     "metadata": {},
     "output_type": "display_data"
    }
   ],
   "source": [
    "img = mpimg.imread('images/0/16551_idx5_x2651_y2001_class0.png')\n",
    "imgplot = plt.imshow(img)\n",
    "plt.show()"
   ]
  },
  {
   "cell_type": "markdown",
   "metadata": {},
   "source": [
    "#Display an image with cancer (class 1)"
   ]
  },
  {
   "cell_type": "code",
   "execution_count": 17,
   "metadata": {},
   "outputs": [
    {
     "data": {
      "image/png": "[encoded data removed]",
      "text/plain": [
       "<Figure size 432x288 with 1 Axes>"
      ]
     },
     "metadata": {},
     "output_type": "display_data"
    }
   ],
   "source": [
    "img = mpimg.imread('images/1/15516_idx5_x2101_y1751_class1.png')\n",
    "imgplot = plt.imshow(img)\n",
    "plt.show()"
   ]
  },
  {
   "cell_type": "markdown",
   "metadata": {},
   "source": [
    "#Convert images to the RecordIO format and upload to S3\n",
    "#Fetch the im2rec script from Apache MxNet Github Repo"
   ]
  },
  {
   "cell_type": "code",
   "execution_count": 18,
   "metadata": {},
   "outputs": [
    {
     "name": "stderr",
     "output_type": "stream",
     "text": [
      "--2019-11-08 20:46:52--  https://raw.githubusercontent.com/apache/incubator-mxnet/master/tools/im2rec.py\n",
      "Resolving raw.githubusercontent.com (raw.githubusercontent.com)... 151.101.200.133\n",
      "Connecting to raw.githubusercontent.com (raw.githubusercontent.com)|151.101.200.133|:443... connected.\n",
      "HTTP request sent, awaiting response... 200 OK\n",
      "Length: 15838 (15K) [text/plain]\n",
      "Saving to: ‘im2rec.py’\n",
      "\n",
      "     0K .......... .....                                      100% 41.3M=0s\n",
      "\n",
      "2019-11-08 20:46:52 (41.3 MB/s) - ‘im2rec.py’ saved [15838/15838]\n",
      "\n"
     ]
    }
   ],
   "source": [
    "%%bash\n",
    "wget https://raw.githubusercontent.com/apache/incubator-mxnet/master/tools/im2rec.py\n",
    "chmod +x im2rec.py"
   ]
  },
  {
   "cell_type": "markdown",
   "metadata": {},
   "source": [
    "#Create the .lst files needed for creating the .rec files for train and test datasets"
   ]
  },
  {
   "cell_type": "code",
   "execution_count": 19,
   "metadata": {},
   "outputs": [
    {
     "name": "stdout",
     "output_type": "stream",
     "text": [
      "0 0\n",
      "1 1\n"
     ]
    }
   ],
   "source": [
    "%%bash\n",
    "\n",
    "python im2rec.py --list --recursive --test-ratio 0.3 --train-ratio 0.7 images images/"
   ]
  },
  {
   "cell_type": "markdown",
   "metadata": {},
   "source": [
    "#Create the .rec files for train and test datasets"
   ]
  },
  {
   "cell_type": "code",
   "execution_count": 20,
   "metadata": {},
   "outputs": [
    {
     "name": "stdout",
     "output_type": "stream",
     "text": [
      "Creating .rec file from /home/ec2-user/SageMaker/images_train.lst in /home/ec2-user/SageMaker\n",
      "time: 0.0012443065643310547  count: 0\n",
      "time: 0.11862635612487793  count: 1000\n",
      "time: 0.08197331428527832  count: 2000\n",
      "time: 0.055518388748168945  count: 3000\n",
      "time: 0.0630502700805664  count: 4000\n",
      "time: 0.061373233795166016  count: 5000\n",
      "time: 0.05242133140563965  count: 6000\n",
      "time: 0.05972599983215332  count: 7000\n",
      "time: 0.05711007118225098  count: 8000\n",
      "time: 0.0468754768371582  count: 9000\n",
      "time: 0.1516885757446289  count: 10000\n",
      "time: 0.0456082820892334  count: 11000\n",
      "time: 0.04671931266784668  count: 12000\n",
      "time: 0.04296469688415527  count: 13000\n",
      "time: 0.045619964599609375  count: 14000\n",
      "time: 0.04415082931518555  count: 15000\n",
      "time: 0.0475163459777832  count: 16000\n",
      "time: 0.043305158615112305  count: 17000\n",
      "time: 0.04607725143432617  count: 18000\n",
      "time: 0.042839765548706055  count: 19000\n",
      "time: 0.044181108474731445  count: 20000\n",
      "time: 0.02471613883972168  count: 21000\n",
      "time: 0.06429553031921387  count: 22000\n",
      "time: 0.05640125274658203  count: 23000\n",
      "time: 0.049092769622802734  count: 24000\n",
      "time: 0.047022104263305664  count: 25000\n",
      "time: 0.042841434478759766  count: 26000\n",
      "time: 0.03572845458984375  count: 27000\n",
      "time: 0.038365840911865234  count: 28000\n",
      "time: 0.09138250350952148  count: 29000\n",
      "time: 0.05401039123535156  count: 30000\n",
      "time: 0.047878265380859375  count: 31000\n",
      "time: 0.41723084449768066  count: 32000\n",
      "time: 0.043524742126464844  count: 33000\n",
      "time: 0.043895721435546875  count: 34000\n",
      "time: 0.05116844177246094  count: 35000\n",
      "time: 0.04681396484375  count: 36000\n",
      "time: 0.04133772850036621  count: 37000\n",
      "time: 0.042281150817871094  count: 38000\n",
      "time: 0.04385685920715332  count: 39000\n",
      "time: 0.04127073287963867  count: 40000\n",
      "time: 0.04362630844116211  count: 41000\n",
      "time: 0.40453290939331055  count: 42000\n",
      "time: 0.04539656639099121  count: 43000\n",
      "time: 0.04600954055786133  count: 44000\n",
      "time: 0.04413151741027832  count: 45000\n",
      "time: 0.04526233673095703  count: 46000\n",
      "time: 0.04450201988220215  count: 47000\n",
      "time: 0.042188405990600586  count: 48000\n",
      "time: 0.04650092124938965  count: 49000\n",
      "time: 0.052248239517211914  count: 50000\n",
      "time: 0.034610748291015625  count: 51000\n",
      "time: 0.040569305419921875  count: 52000\n",
      "time: 0.384385347366333  count: 53000\n",
      "time: 0.04335212707519531  count: 54000\n",
      "time: 0.04136943817138672  count: 55000\n",
      "time: 0.04818463325500488  count: 56000\n",
      "time: 0.044985055923461914  count: 57000\n",
      "time: 0.05256843566894531  count: 58000\n",
      "time: 0.046753883361816406  count: 59000\n",
      "time: 0.04312777519226074  count: 60000\n",
      "time: 0.04334068298339844  count: 61000\n",
      "time: 0.04336357116699219  count: 62000\n",
      "time: 0.3908367156982422  count: 63000\n",
      "time: 0.04860401153564453  count: 64000\n",
      "time: 0.04871702194213867  count: 65000\n",
      "time: 0.050818443298339844  count: 66000\n",
      "time: 0.04301643371582031  count: 67000\n",
      "time: 0.04085063934326172  count: 68000\n",
      "time: 0.04202079772949219  count: 69000\n",
      "time: 0.040000200271606445  count: 70000\n",
      "time: 0.0480799674987793  count: 71000\n",
      "time: 0.04326200485229492  count: 72000\n",
      "time: 0.04273390769958496  count: 73000\n",
      "time: 0.44080066680908203  count: 74000\n",
      "time: 0.045340776443481445  count: 75000\n",
      "time: 0.04796934127807617  count: 76000\n",
      "time: 0.046181678771972656  count: 77000\n",
      "time: 0.04470348358154297  count: 78000\n",
      "time: 0.04601430892944336  count: 79000\n",
      "time: 0.05059242248535156  count: 80000\n",
      "time: 0.04447031021118164  count: 81000\n",
      "time: 0.042653560638427734  count: 82000\n",
      "time: 0.048632144927978516  count: 83000\n",
      "time: 0.41199827194213867  count: 84000\n",
      "time: 0.047335147857666016  count: 85000\n",
      "time: 0.04025745391845703  count: 86000\n",
      "time: 0.04283618927001953  count: 87000\n",
      "time: 0.05260205268859863  count: 88000\n",
      "time: 0.04879140853881836  count: 89000\n",
      "time: 0.04061293601989746  count: 90000\n",
      "time: 0.04656410217285156  count: 91000\n",
      "time: 0.04403543472290039  count: 92000\n",
      "time: 0.041413068771362305  count: 93000\n",
      "time: 0.4268167018890381  count: 94000\n",
      "time: 0.04452157020568848  count: 95000\n",
      "time: 0.04767107963562012  count: 96000\n",
      "time: 0.041115522384643555  count: 97000\n",
      "time: 0.024378061294555664  count: 98000\n",
      "time: 0.029345989227294922  count: 99000\n",
      "time: 0.026034116744995117  count: 100000\n",
      "time: 0.07621574401855469  count: 101000\n",
      "time: 0.059807777404785156  count: 102000\n",
      "time: 0.07437372207641602  count: 103000\n",
      "time: 0.08887958526611328  count: 104000\n",
      "time: 0.06047463417053223  count: 105000\n",
      "time: 0.04177713394165039  count: 106000\n",
      "time: 0.06369614601135254  count: 107000\n",
      "time: 0.3498656749725342  count: 108000\n",
      "time: 0.08639931678771973  count: 109000\n",
      "time: 0.07198572158813477  count: 110000\n",
      "time: 0.13425469398498535  count: 111000\n",
      "time: 0.0494229793548584  count: 112000\n",
      "time: 0.05864310264587402  count: 113000\n",
      "time: 0.16727948188781738  count: 114000\n",
      "time: 0.06598091125488281  count: 115000\n",
      "time: 0.1466836929321289  count: 116000\n",
      "time: 0.2132725715637207  count: 117000\n",
      "time: 0.04209446907043457  count: 118000\n",
      "time: 0.04492831230163574  count: 119000\n",
      "time: 0.0475156307220459  count: 120000\n",
      "time: 0.04699563980102539  count: 121000\n",
      "time: 0.05362081527709961  count: 122000\n",
      "time: 0.04535794258117676  count: 123000\n",
      "time: 0.03643608093261719  count: 124000\n",
      "time: 0.0333552360534668  count: 125000\n",
      "time: 0.029998779296875  count: 126000\n",
      "time: 0.060030460357666016  count: 127000\n",
      "time: 0.0569920539855957  count: 128000\n",
      "time: 0.1692955493927002  count: 129000\n",
      "time: 0.05604863166809082  count: 130000\n",
      "time: 0.04490041732788086  count: 131000\n",
      "time: 0.046999216079711914  count: 132000\n",
      "time: 0.045757293701171875  count: 133000\n",
      "time: 0.04518461227416992  count: 134000\n",
      "time: 0.043137311935424805  count: 135000\n",
      "time: 0.04102969169616699  count: 136000\n",
      "time: 0.04546093940734863  count: 137000\n",
      "time: 0.04433846473693848  count: 138000\n",
      "time: 0.7674546241760254  count: 139000\n",
      "time: 0.04663562774658203  count: 140000\n",
      "time: 0.046674251556396484  count: 141000\n",
      "time: 0.04347825050354004  count: 142000\n",
      "time: 0.04449605941772461  count: 143000\n",
      "time: 0.044751644134521484  count: 144000\n",
      "time: 0.045584917068481445  count: 145000\n",
      "time: 0.041635751724243164  count: 146000\n",
      "time: 0.0411226749420166  count: 147000\n",
      "time: 0.047780513763427734  count: 148000\n",
      "time: 0.04416537284851074  count: 149000\n",
      "time: 0.43462157249450684  count: 150000\n",
      "time: 0.04012441635131836  count: 151000\n",
      "time: 0.04932451248168945  count: 152000\n",
      "time: 0.05183553695678711  count: 153000\n",
      "time: 0.048226356506347656  count: 154000\n",
      "time: 0.041336774826049805  count: 155000\n",
      "time: 0.052092552185058594  count: 156000\n",
      "time: 0.04420304298400879  count: 157000\n",
      "time: 0.042351484298706055  count: 158000\n",
      "time: 0.04483485221862793  count: 159000\n",
      "time: 0.04691433906555176  count: 160000\n",
      "time: 0.4616055488586426  count: 161000\n",
      "time: 0.04413866996765137  count: 162000\n",
      "time: 0.048374176025390625  count: 163000\n",
      "time: 0.05122017860412598  count: 164000\n",
      "time: 0.043442487716674805  count: 165000\n",
      "time: 0.04696083068847656  count: 166000\n",
      "time: 0.04373526573181152  count: 167000\n",
      "time: 0.04835319519042969  count: 168000\n",
      "time: 0.04274463653564453  count: 169000\n",
      "time: 0.0417633056640625  count: 170000\n",
      "time: 0.04669928550720215  count: 171000\n",
      "time: 0.43152832984924316  count: 172000\n",
      "time: 0.04696917533874512  count: 173000\n",
      "time: 0.0441591739654541  count: 174000\n",
      "time: 0.05768871307373047  count: 175000\n",
      "time: 0.046491384506225586  count: 176000\n",
      "time: 0.04276251792907715  count: 177000\n",
      "time: 0.047374725341796875  count: 178000\n",
      "time: 0.04547882080078125  count: 179000\n",
      "time: 0.04415321350097656  count: 180000\n",
      "time: 0.0463712215423584  count: 181000\n",
      "time: 0.04696011543273926  count: 182000\n",
      "time: 0.43416666984558105  count: 183000\n",
      "time: 0.04866361618041992  count: 184000\n",
      "time: 0.04336214065551758  count: 185000\n",
      "time: 0.04495501518249512  count: 186000\n",
      "time: 0.04929924011230469  count: 187000\n",
      "time: 0.04057884216308594  count: 188000\n",
      "time: 0.04496645927429199  count: 189000\n",
      "time: 0.04468941688537598  count: 190000\n",
      "time: 0.04233860969543457  count: 191000\n",
      "time: 0.035431861877441406  count: 192000\n",
      "time: 0.02604508399963379  count: 193000\n",
      "time: 0.02443981170654297  count: 194000\n",
      "Creating .rec file from /home/ec2-user/SageMaker/images_test.lst in /home/ec2-user/SageMaker\n",
      "time: 0.0012748241424560547  count: 0\n",
      "time: 0.541536808013916  count: 1000\n",
      "time: 0.042906999588012695  count: 2000\n",
      "time: 0.044515371322631836  count: 3000\n",
      "time: 0.05167365074157715  count: 4000\n",
      "time: 0.047330617904663086  count: 5000\n",
      "time: 0.04387617111206055  count: 6000\n",
      "time: 0.05074644088745117  count: 7000\n",
      "time: 0.046712636947631836  count: 8000\n",
      "time: 0.051542043685913086  count: 9000\n",
      "time: 0.043335914611816406  count: 10000\n",
      "time: 0.4549591541290283  count: 11000\n",
      "time: 0.05255484580993652  count: 12000\n",
      "time: 0.04581427574157715  count: 13000\n",
      "time: 0.04741978645324707  count: 14000\n",
      "time: 0.046181440353393555  count: 15000\n",
      "time: 0.04631185531616211  count: 16000\n",
      "time: 0.044699907302856445  count: 17000\n",
      "time: 0.039507150650024414  count: 18000\n",
      "time: 0.04863142967224121  count: 19000\n",
      "time: 0.05125570297241211  count: 20000\n",
      "time: 0.43730998039245605  count: 21000\n",
      "time: 0.04347348213195801  count: 22000\n",
      "time: 0.04269075393676758  count: 23000\n",
      "time: 0.04866147041320801  count: 24000\n",
      "time: 0.04854297637939453  count: 25000\n",
      "time: 0.04271054267883301  count: 26000\n",
      "time: 0.04362940788269043  count: 27000\n",
      "time: 0.04717564582824707  count: 28000\n",
      "time: 0.04896712303161621  count: 29000\n",
      "time: 0.04091286659240723  count: 30000\n",
      "time: 0.04391622543334961  count: 31000\n",
      "time: 1.126307487487793  count: 32000\n",
      "time: 0.03995990753173828  count: 33000\n",
      "time: 0.04749608039855957  count: 34000\n",
      "time: 0.04521059989929199  count: 35000\n",
      "time: 0.04309201240539551  count: 36000\n",
      "time: 0.04380178451538086  count: 37000\n",
      "time: 0.04326987266540527  count: 38000\n",
      "time: 0.046712636947631836  count: 39000\n",
      "time: 0.05162644386291504  count: 40000\n",
      "time: 0.04112815856933594  count: 41000\n",
      "time: 0.04602527618408203  count: 42000\n",
      "time: 1.1023814678192139  count: 43000\n",
      "time: 0.0492854118347168  count: 44000\n",
      "time: 0.045827627182006836  count: 45000\n",
      "time: 0.0523076057434082  count: 46000\n",
      "time: 0.0528559684753418  count: 47000\n",
      "time: 0.04938054084777832  count: 48000\n",
      "time: 0.04204058647155762  count: 49000\n",
      "time: 0.046700239181518555  count: 50000\n",
      "time: 0.04044508934020996  count: 51000\n",
      "time: 0.046174049377441406  count: 52000\n",
      "time: 0.43071651458740234  count: 53000\n",
      "time: 0.04809165000915527  count: 54000\n",
      "time: 0.0437014102935791  count: 55000\n",
      "time: 0.04552030563354492  count: 56000\n",
      "time: 0.045882463455200195  count: 57000\n",
      "time: 0.04867434501647949  count: 58000\n",
      "time: 0.043816566467285156  count: 59000\n",
      "time: 0.050475358963012695  count: 60000\n",
      "time: 0.04983949661254883  count: 61000\n",
      "time: 0.04526948928833008  count: 62000\n",
      "time: 0.05019879341125488  count: 63000\n",
      "time: 0.4219677448272705  count: 64000\n",
      "time: 0.04719257354736328  count: 65000\n",
      "time: 0.05058693885803223  count: 66000\n",
      "time: 0.04153180122375488  count: 67000\n",
      "time: 0.046141862869262695  count: 68000\n",
      "time: 0.04810667037963867  count: 69000\n",
      "time: 0.044158935546875  count: 70000\n",
      "time: 0.05009651184082031  count: 71000\n",
      "time: 0.046668291091918945  count: 72000\n",
      "time: 0.04722452163696289  count: 73000\n",
      "time: 0.46330976486206055  count: 74000\n",
      "time: 0.04391813278198242  count: 75000\n",
      "time: 0.05117440223693848  count: 76000\n",
      "time: 0.03580188751220703  count: 77000\n",
      "time: 0.04178428649902344  count: 78000\n",
      "time: 0.03790092468261719  count: 79000\n",
      "time: 0.04192233085632324  count: 80000\n",
      "time: 0.034046173095703125  count: 81000\n",
      "time: 0.029320240020751953  count: 82000\n",
      "time: 0.022890806198120117  count: 83000\n"
     ]
    }
   ],
   "source": [
    "%%bash\n",
    "\n",
    "python im2rec.py --num-thread 4 --pass-through images_train.lst images\n",
    "python im2rec.py --num-thread 4 --pass-through images_test.lst images"
   ]
  },
  {
   "cell_type": "markdown",
   "metadata": {},
   "source": [
    "Uploading the train and test .rec files to S3"
   ]
  },
  {
   "cell_type": "code",
   "execution_count": 21,
   "metadata": {},
   "outputs": [
    {
     "name": "stdout",
     "output_type": "stream",
     "text": [
      "upload: ./images_train.rec to s3://sagemaker-gwu-capstone-2019/breast-cancer-detection/input/recordio/train/images_train.rec\n"
     ]
    }
   ],
   "source": [
    "%%bash\n",
    "\n",
    "aws s3 cp images_train.rec s3://sagemaker-gwu-capstone-2019/breast-cancer-detection/input/recordio/train/\n"
   ]
  },
  {
   "cell_type": "code",
   "execution_count": 22,
   "metadata": {},
   "outputs": [
    {
     "name": "stdout",
     "output_type": "stream",
     "text": [
      "upload: ./images_test.rec to s3://sagemaker-gwu-capstone-2019/breast-cancer-detection/input/recordio/test/images_test.rec\n"
     ]
    }
   ],
   "source": [
    "%%bash\n",
    "aws s3 cp images_test.rec s3://sagemaker-gwu-capstone-2019/breast-cancer-detection/input/recordio/test/"
   ]
  },
  {
   "cell_type": "code",
   "execution_count": null,
   "metadata": {},
   "outputs": [],
   "source": []
  }
 ],
 "metadata": {
  "kernelspec": {
   "display_name": "Python 3",
   "language": "python",
   "name": "python3"
  },
  "language_info": {
   "codemirror_mode": {
    "name": "ipython",
    "version": 3
   },
   "file_extension": ".py",
   "mimetype": "text/x-python",
   "name": "python",
   "nbconvert_exporter": "python",
   "pygments_lexer": "ipython3",
   "version": "3.7.3"
  }
 },
 "nbformat": 4,
 "nbformat_minor": 2
}
